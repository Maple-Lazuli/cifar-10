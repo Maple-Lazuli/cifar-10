{
 "cells": [
  {
   "cell_type": "code",
   "execution_count": 1,
   "id": "64fec302",
   "metadata": {},
   "outputs": [],
   "source": [
    "import json\n",
    "import matplotlib.pyplot as plt\n",
    "import os\n",
    "import numpy as np"
   ]
  },
  {
   "cell_type": "code",
   "execution_count": 2,
   "id": "33bd915a",
   "metadata": {},
   "outputs": [],
   "source": [
    "results_dir =\"../results\"\n",
    "report = \"mlp100/\"\n",
    "full_dir = os.path.join(results_dir, report)\n",
    "training_performance = os.path.join(full_dir, \"training.json\")\n",
    "training_eval = os.path.join(full_dir, \"train_evaluation.json\")\n",
    "test_eval = os.path.join(full_dir, \"test_evaluation.json\")"
   ]
  },
  {
   "cell_type": "code",
   "execution_count": 3,
   "id": "e56d3a00",
   "metadata": {},
   "outputs": [
    {
     "ename": "FileNotFoundError",
     "evalue": "[Errno 2] No such file or directory: '../results/mlp100/training.json'",
     "output_type": "error",
     "traceback": [
      "\u001b[0;31m---------------------------------------------------------------------------\u001b[0m",
      "\u001b[0;31mFileNotFoundError\u001b[0m                         Traceback (most recent call last)",
      "Cell \u001b[0;32mIn [3], line 1\u001b[0m\n\u001b[0;32m----> 1\u001b[0m \u001b[38;5;28;01mwith\u001b[39;00m \u001b[38;5;28;43mopen\u001b[39;49m\u001b[43m(\u001b[49m\u001b[43mtraining_performance\u001b[49m\u001b[43m,\u001b[49m\u001b[43m \u001b[49m\u001b[38;5;124;43m\"\u001b[39;49m\u001b[38;5;124;43mr\u001b[39;49m\u001b[38;5;124;43m\"\u001b[39;49m\u001b[43m)\u001b[49m \u001b[38;5;28;01mas\u001b[39;00m file_in:\n\u001b[1;32m      2\u001b[0m     training_performance \u001b[38;5;241m=\u001b[39m json\u001b[38;5;241m.\u001b[39mload(file_in)\n\u001b[1;32m      4\u001b[0m \u001b[38;5;28;01mwith\u001b[39;00m \u001b[38;5;28mopen\u001b[39m(training_eval, \u001b[38;5;124m\"\u001b[39m\u001b[38;5;124mr\u001b[39m\u001b[38;5;124m\"\u001b[39m) \u001b[38;5;28;01mas\u001b[39;00m file_in:\n",
      "\u001b[0;31mFileNotFoundError\u001b[0m: [Errno 2] No such file or directory: '../results/mlp100/training.json'"
     ]
    }
   ],
   "source": [
    "with open(training_performance, \"r\") as file_in:\n",
    "    training_performance = json.load(file_in)\n",
    "    \n",
    "with open(training_eval, \"r\") as file_in:\n",
    "    training_eval = json.load(file_in)\n",
    "    \n",
    "with open(test_eval, \"r\") as file_in:\n",
    "    test_eval = json.load(file_in)"
   ]
  },
  {
   "cell_type": "markdown",
   "id": "a8357221",
   "metadata": {},
   "source": [
    "# Training"
   ]
  },
  {
   "cell_type": "code",
   "execution_count": null,
   "id": "f3315ab4",
   "metadata": {},
   "outputs": [],
   "source": [
    "fig, ax = plt.subplots(1, 1, figsize=(10, 5))\n",
    "line1, = ax.plot(training_performance['train_loss'], label='Train Loss')\n",
    "line2, = ax.plot(training_performance['val_loss'], label='Validation Loss')\n",
    "ax.legend(handles=[line1, line2])\n",
    "ax.set_title(f\"Loss During Training for {training_performance['name']}\")\n",
    "ax.legend(handles=[line1, line2])\n",
    "ax.set_ylabel('Loss')\n",
    "ax.set_xlabel('Epoch');\n"
   ]
  },
  {
   "cell_type": "code",
   "execution_count": null,
   "id": "6a86aa96",
   "metadata": {},
   "outputs": [],
   "source": [
    "fig, ax = plt.subplots(1, 1, figsize=(10, 5))\n",
    "line1 = ax.imshow(np.array(training_performance['all_step_loss']), cmap='Blues')\n",
    "ax.set_title(f\"Loss During Training for {training_performance['name']}\")\n",
    "ax.set_ylabel('Epoch')\n",
    "ax.set_xlabel('Step');"
   ]
  },
  {
   "cell_type": "markdown",
   "id": "59c2eb58",
   "metadata": {},
   "source": [
    "# Training Set Metrics"
   ]
  },
  {
   "cell_type": "code",
   "execution_count": null,
   "id": "7567bfe1",
   "metadata": {},
   "outputs": [],
   "source": [
    "training_eval"
   ]
  },
  {
   "cell_type": "code",
   "execution_count": null,
   "id": "d660c736",
   "metadata": {},
   "outputs": [],
   "source": [
    "print(f\"Mean Accuracy {np.mean(training_eval['Accuracy'])}\")\n",
    "print(f\"Mean Classification Error {np.mean(training_eval['Classification Error'])}\")\n",
    "print(f\"Mean Precision {np.mean(training_eval['Precision'])}\")\n",
    "print(f\"Mean Recall {np.mean(training_eval['Recall'])}\")\n",
    "print(f\"Mean Specificity {np.mean(training_eval['Specificity'])}\")\n",
    "print(f\"Mean F1-Score {np.mean(training_eval['F1-Score'])}\")"
   ]
  },
  {
   "cell_type": "markdown",
   "id": "4c65f96e",
   "metadata": {},
   "source": [
    "# Validation Set Metrics"
   ]
  },
  {
   "cell_type": "code",
   "execution_count": null,
   "id": "8f06b8ca",
   "metadata": {},
   "outputs": [],
   "source": [
    "test_eval"
   ]
  },
  {
   "cell_type": "code",
   "execution_count": null,
   "id": "6f919369",
   "metadata": {},
   "outputs": [],
   "source": [
    "print(f\"Mean Accuracy {np.mean(test_eval['Accuracy'])}\")\n",
    "print(f\"Mean Classification Error {np.mean(test_eval['Classification Error'])}\")\n",
    "print(f\"Mean Precision {np.mean(test_eval['Precision'])}\")\n",
    "print(f\"Mean Recall {np.mean(test_eval['Recall'])}\")\n",
    "print(f\"Mean Specificity {np.mean(test_eval['Specificity'])}\")\n",
    "print(f\"Mean F1-Score {np.mean(test_eval['F1-Score'])}\")"
   ]
  },
  {
   "cell_type": "code",
   "execution_count": null,
   "id": "1d59e016",
   "metadata": {},
   "outputs": [],
   "source": []
  }
 ],
 "metadata": {
  "kernelspec": {
   "display_name": "Python 3 (ipykernel)",
   "language": "python",
   "name": "python3"
  },
  "language_info": {
   "codemirror_mode": {
    "name": "ipython",
    "version": 3
   },
   "file_extension": ".py",
   "mimetype": "text/x-python",
   "name": "python",
   "nbconvert_exporter": "python",
   "pygments_lexer": "ipython3",
   "version": "3.10.6"
  }
 },
 "nbformat": 4,
 "nbformat_minor": 5
}
